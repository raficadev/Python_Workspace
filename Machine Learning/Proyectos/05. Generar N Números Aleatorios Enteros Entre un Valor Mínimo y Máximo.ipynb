{
 "cells": [
  {
   "cell_type": "markdown",
   "id": "e08a7f8c-d3e3-4e0e-991a-a79a18a8fd80",
   "metadata": {},
   "source": [
    "# Generar N Números Aleatorios Enteros Entre un Valor Mínimo y Máximo"
   ]
  },
  {
   "cell_type": "markdown",
   "id": "acdc5330-53c5-4f0b-8d36-0252f6fc153e",
   "metadata": {},
   "source": [
    "Desarrolla una función llamada generar_numeros_enteros_aleatorios que tome como entrada el número de elementos N, un valor mínimo minimo y un valor máximo maximo, y utilice NumPy para generar una lista de N números enteros aleatorios en el rango [minimo, maximo]."
   ]
  },
  {
   "cell_type": "code",
   "execution_count": 1,
   "id": "bd4c5a20-d20e-4066-b54e-734295883950",
   "metadata": {},
   "outputs": [
    {
     "name": "stdout",
     "output_type": "stream",
     "text": [
      "[9, 8, 8, 4, 5]\n"
     ]
    }
   ],
   "source": [
    "import numpy as np\n",
    "\n",
    "def generar_numeros_enteros_aleatorios(N, minimo, maximo):\n",
    "    return list(np.random.randint(minimo, maximo + 1, size=N))\n",
    "\n",
    "# Ejemplo de uso\n",
    "N = 5\n",
    "minimo = 1\n",
    "maximo = 10\n",
    "resultado = generar_numeros_enteros_aleatorios(N, minimo, maximo)\n",
    "print(resultado)"
   ]
  },
  {
   "cell_type": "code",
   "execution_count": null,
   "id": "925715f9-86ed-47e1-9daf-e813aad2d48b",
   "metadata": {},
   "outputs": [],
   "source": []
  }
 ],
 "metadata": {
  "kernelspec": {
   "display_name": "Python 3 (ipykernel)",
   "language": "python",
   "name": "python3"
  },
  "language_info": {
   "codemirror_mode": {
    "name": "ipython",
    "version": 3
   },
   "file_extension": ".py",
   "mimetype": "text/x-python",
   "name": "python",
   "nbconvert_exporter": "python",
   "pygments_lexer": "ipython3",
   "version": "3.12.4"
  }
 },
 "nbformat": 4,
 "nbformat_minor": 5
}
