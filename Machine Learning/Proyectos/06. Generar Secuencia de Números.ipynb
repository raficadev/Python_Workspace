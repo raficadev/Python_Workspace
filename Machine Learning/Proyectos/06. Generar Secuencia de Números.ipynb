{
 "cells": [
  {
   "cell_type": "markdown",
   "id": "f39a058c-d83c-410d-b182-f2f02fdbc3b0",
   "metadata": {},
   "source": [
    "# Generar una Secuencia de Números"
   ]
  },
  {
   "cell_type": "markdown",
   "id": "a0ae66ce-1d56-4d1d-a835-e5a42c20d196",
   "metadata": {},
   "source": [
    "Desarrolla una función llamada generar_secuencia_numerica que tome como entrada un valor mínimo minimo, un valor máximo maximo y un paso paso, y utilice NumPy para generar una secuencia de números en el rango [minimo, maximo) con el paso especificado."
   ]
  },
  {
   "cell_type": "code",
   "execution_count": 1,
   "id": "84368136-c7d3-43bb-9312-d6a06fc927c0",
   "metadata": {},
   "outputs": [
    {
     "name": "stdout",
     "output_type": "stream",
     "text": [
      "[0 2 4 6 8]\n",
      "Tipo de datos del resultado: <class 'numpy.ndarray'>\n"
     ]
    },
    {
     "name": "stderr",
     "output_type": "stream",
     "text": [
      "/opt/anaconda3/lib/python3.12/site-packages/numpy/core/getlimits.py:225: RuntimeWarning: invalid value encountered in exp2\n",
      "  epsneg_f128 = exp2(ld(-113))\n",
      "/opt/anaconda3/lib/python3.12/site-packages/numpy/core/getlimits.py:226: RuntimeWarning: invalid value encountered in exp2\n",
      "  tiny_f128 = exp2(ld(-16382))\n"
     ]
    }
   ],
   "source": [
    "import numpy as np\n",
    "\n",
    "def generar_secuencia_numerica(minimo, maximo, paso):\n",
    "    return np.arange(minimo, maximo, paso)\n",
    "\n",
    "# Ejemplo de uso\n",
    "minimo = 0\n",
    "maximo = 10\n",
    "paso = 2\n",
    "resultado = generar_secuencia_numerica(minimo, maximo, paso)\n",
    "print(resultado)\n",
    "\n",
    "# Verificación del tipo de datos del resultado\n",
    "print(\"Tipo de datos del resultado:\", type(resultado))"
   ]
  },
  {
   "cell_type": "code",
   "execution_count": null,
   "id": "80e1e6af-b5fa-4391-8155-23b6330de0af",
   "metadata": {},
   "outputs": [],
   "source": []
  }
 ],
 "metadata": {
  "kernelspec": {
   "display_name": "Python 3 (ipykernel)",
   "language": "python",
   "name": "python3"
  },
  "language_info": {
   "codemirror_mode": {
    "name": "ipython",
    "version": 3
   },
   "file_extension": ".py",
   "mimetype": "text/x-python",
   "name": "python",
   "nbconvert_exporter": "python",
   "pygments_lexer": "ipython3",
   "version": "3.12.4"
  }
 },
 "nbformat": 4,
 "nbformat_minor": 5
}
